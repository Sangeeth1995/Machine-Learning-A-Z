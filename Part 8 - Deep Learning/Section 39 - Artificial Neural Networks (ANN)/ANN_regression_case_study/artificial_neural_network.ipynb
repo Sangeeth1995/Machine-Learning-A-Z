{
 "cells": [
  {
   "cell_type": "markdown",
   "metadata": {
    "colab_type": "text",
    "id": "3cbb7fRy-eyr"
   },
   "source": [
    "# Artificial Neural Network"
   ]
  },
  {
   "cell_type": "markdown",
   "metadata": {
    "colab_type": "text",
    "id": "8sNDnxE2-pwE"
   },
   "source": [
    "### Importing the libraries"
   ]
  },
  {
   "cell_type": "code",
   "execution_count": 1,
   "metadata": {
    "colab": {},
    "colab_type": "code",
    "id": "lxChR1Rk-umf"
   },
   "outputs": [],
   "source": [
    "import numpy as np\n",
    "import pandas as pd\n",
    "import tensorflow as tf"
   ]
  },
  {
   "cell_type": "code",
   "execution_count": 2,
   "metadata": {
    "colab": {
     "base_uri": "https://localhost:8080/",
     "height": 34
    },
    "colab_type": "code",
    "id": "uBTqR3nacj0e",
    "outputId": "4c0bd183-e424-429a-9fba-ceb841c06888"
   },
   "outputs": [
    {
     "data": {
      "text/plain": [
       "'2.13.0'"
      ]
     },
     "execution_count": 2,
     "metadata": {},
     "output_type": "execute_result"
    }
   ],
   "source": [
    "tf.__version__"
   ]
  },
  {
   "cell_type": "markdown",
   "metadata": {
    "colab_type": "text",
    "id": "AG3FQEch-yuA"
   },
   "source": [
    "## Part 1 - Data Preprocessing"
   ]
  },
  {
   "cell_type": "markdown",
   "metadata": {
    "colab_type": "text",
    "id": "-4zq8Mza_D9O"
   },
   "source": [
    "### Importing the dataset"
   ]
  },
  {
   "cell_type": "code",
   "execution_count": 3,
   "metadata": {
    "colab": {},
    "colab_type": "code",
    "id": "B9CV13Co_HHM"
   },
   "outputs": [],
   "source": [
    "dataset = pd.read_excel('Folds5x2_pp.xlsx')\n",
    "X = dataset.iloc[:, :-1].values\n",
    "y = dataset.iloc[:, -1].values"
   ]
  },
  {
   "cell_type": "markdown",
   "metadata": {
    "colab_type": "text",
    "id": "VC6omXel_Up0"
   },
   "source": [
    "### Splitting the dataset into the Training set and Test set"
   ]
  },
  {
   "cell_type": "code",
   "execution_count": 4,
   "metadata": {
    "colab": {},
    "colab_type": "code",
    "id": "L5edeb2r_agx"
   },
   "outputs": [],
   "source": [
    "from sklearn.model_selection import train_test_split\n",
    "X_train, X_test, y_train, y_test = train_test_split(X, y, test_size = 0.2, random_state = 0)"
   ]
  },
  {
   "cell_type": "markdown",
   "metadata": {
    "colab_type": "text",
    "id": "_mSLlAT9_eyI"
   },
   "source": [
    "## Part 2 - Building the ANN"
   ]
  },
  {
   "cell_type": "markdown",
   "metadata": {
    "colab_type": "text",
    "id": "CsBULd_f_wLY"
   },
   "source": [
    "### Initializing the ANN"
   ]
  },
  {
   "cell_type": "code",
   "execution_count": 5,
   "metadata": {
    "colab": {},
    "colab_type": "code",
    "id": "J6Hd97Ls__Nz"
   },
   "outputs": [],
   "source": [
    "ann = tf.keras.models.Sequential()"
   ]
  },
  {
   "cell_type": "markdown",
   "metadata": {
    "colab_type": "text",
    "id": "iitAFJS_ABUn"
   },
   "source": [
    "### Adding the input layer and the first hidden layer"
   ]
  },
  {
   "cell_type": "code",
   "execution_count": 6,
   "metadata": {
    "colab": {},
    "colab_type": "code",
    "id": "ksO_Vv40AHix"
   },
   "outputs": [],
   "source": [
    "ann.add(tf.keras.layers.Dense(units=6, activation='relu'))"
   ]
  },
  {
   "cell_type": "markdown",
   "metadata": {
    "colab_type": "text",
    "id": "-lb4kK_wAKbs"
   },
   "source": [
    "### Adding the second hidden layer"
   ]
  },
  {
   "cell_type": "code",
   "execution_count": 7,
   "metadata": {
    "colab": {},
    "colab_type": "code",
    "id": "c2357OqEAQOQ"
   },
   "outputs": [],
   "source": [
    "ann.add(tf.keras.layers.Dense(units=6, activation='relu'))"
   ]
  },
  {
   "cell_type": "markdown",
   "metadata": {
    "colab_type": "text",
    "id": "jwMOmKb3AdBY"
   },
   "source": [
    "### Adding the output layer"
   ]
  },
  {
   "cell_type": "code",
   "execution_count": 8,
   "metadata": {
    "colab": {},
    "colab_type": "code",
    "id": "YFATpzsUAkLL"
   },
   "outputs": [],
   "source": [
    "ann.add(tf.keras.layers.Dense(units=1))"
   ]
  },
  {
   "cell_type": "markdown",
   "metadata": {
    "colab_type": "text",
    "id": "fq7e4fF6A1yy"
   },
   "source": [
    "## Part 3 - Training the ANN"
   ]
  },
  {
   "cell_type": "markdown",
   "metadata": {
    "colab_type": "text",
    "id": "qDeylAs2An25"
   },
   "source": [
    "### Compiling the ANN"
   ]
  },
  {
   "cell_type": "code",
   "execution_count": 9,
   "metadata": {
    "colab": {},
    "colab_type": "code",
    "id": "pesgbWlCAtB4"
   },
   "outputs": [],
   "source": [
    "ann.compile(optimizer = 'adam', loss = 'mean_squared_error')"
   ]
  },
  {
   "cell_type": "markdown",
   "metadata": {
    "colab_type": "text",
    "id": "YjVuiybYOo7r"
   },
   "source": [
    "### Training the ANN model on the Training set"
   ]
  },
  {
   "cell_type": "code",
   "execution_count": 10,
   "metadata": {
    "colab": {
     "base_uri": "https://localhost:8080/",
     "height": 1000
    },
    "colab_type": "code",
    "id": "c_vV-tiiA5zn",
    "outputId": "4a2b6ee6-ed75-4698-9069-b250e613803f"
   },
   "outputs": [
    {
     "name": "stdout",
     "output_type": "stream",
     "text": [
      "Epoch 1/100\n",
      "240/240 [==============================] - 0s 313us/step - loss: 8832.9600\n",
      "Epoch 2/100\n",
      "240/240 [==============================] - 0s 275us/step - loss: 693.0926\n",
      "Epoch 3/100\n",
      "240/240 [==============================] - 0s 274us/step - loss: 647.4228\n",
      "Epoch 4/100\n",
      "240/240 [==============================] - 0s 269us/step - loss: 595.5223\n",
      "Epoch 5/100\n",
      "240/240 [==============================] - 0s 504us/step - loss: 538.9716\n",
      "Epoch 6/100\n",
      "240/240 [==============================] - 0s 271us/step - loss: 481.3949\n",
      "Epoch 7/100\n",
      "240/240 [==============================] - 0s 270us/step - loss: 424.2051\n",
      "Epoch 8/100\n",
      "240/240 [==============================] - 0s 274us/step - loss: 370.0715\n",
      "Epoch 9/100\n",
      "240/240 [==============================] - 0s 267us/step - loss: 317.9112\n",
      "Epoch 10/100\n",
      "240/240 [==============================] - 0s 271us/step - loss: 268.7465\n",
      "Epoch 11/100\n",
      "240/240 [==============================] - 0s 267us/step - loss: 224.5699\n",
      "Epoch 12/100\n",
      "240/240 [==============================] - 0s 352us/step - loss: 185.1940\n",
      "Epoch 13/100\n",
      "240/240 [==============================] - 0s 287us/step - loss: 150.0975\n",
      "Epoch 14/100\n",
      "240/240 [==============================] - 0s 285us/step - loss: 120.6682\n",
      "Epoch 15/100\n",
      "240/240 [==============================] - 0s 285us/step - loss: 96.8415\n",
      "Epoch 16/100\n",
      "240/240 [==============================] - 0s 280us/step - loss: 77.6393\n",
      "Epoch 17/100\n",
      "240/240 [==============================] - 0s 269us/step - loss: 63.3369\n",
      "Epoch 18/100\n",
      "240/240 [==============================] - 0s 257us/step - loss: 52.8680\n",
      "Epoch 19/100\n",
      "240/240 [==============================] - 0s 262us/step - loss: 46.2444\n",
      "Epoch 20/100\n",
      "240/240 [==============================] - 0s 268us/step - loss: 41.3749\n",
      "Epoch 21/100\n",
      "240/240 [==============================] - 0s 273us/step - loss: 38.2600\n",
      "Epoch 22/100\n",
      "240/240 [==============================] - 0s 267us/step - loss: 36.5640\n",
      "Epoch 23/100\n",
      "240/240 [==============================] - 0s 275us/step - loss: 35.5742\n",
      "Epoch 24/100\n",
      "240/240 [==============================] - 0s 270us/step - loss: 34.5348\n",
      "Epoch 25/100\n",
      "240/240 [==============================] - 0s 268us/step - loss: 33.4854\n",
      "Epoch 26/100\n",
      "240/240 [==============================] - 0s 271us/step - loss: 32.7310\n",
      "Epoch 27/100\n",
      "240/240 [==============================] - 0s 269us/step - loss: 32.7893\n",
      "Epoch 28/100\n",
      "240/240 [==============================] - 0s 275us/step - loss: 31.7133\n",
      "Epoch 29/100\n",
      "240/240 [==============================] - 0s 271us/step - loss: 31.6240\n",
      "Epoch 30/100\n",
      "240/240 [==============================] - 0s 271us/step - loss: 30.9313\n",
      "Epoch 31/100\n",
      "240/240 [==============================] - 0s 268us/step - loss: 30.4089\n",
      "Epoch 32/100\n",
      "240/240 [==============================] - 0s 266us/step - loss: 30.0960\n",
      "Epoch 33/100\n",
      "240/240 [==============================] - 0s 277us/step - loss: 29.7324\n",
      "Epoch 34/100\n",
      "240/240 [==============================] - 0s 267us/step - loss: 29.6666\n",
      "Epoch 35/100\n",
      "240/240 [==============================] - 0s 273us/step - loss: 29.1081\n",
      "Epoch 36/100\n",
      "240/240 [==============================] - 0s 269us/step - loss: 28.5576\n",
      "Epoch 37/100\n",
      "240/240 [==============================] - 0s 268us/step - loss: 28.6270\n",
      "Epoch 38/100\n",
      "240/240 [==============================] - 0s 266us/step - loss: 28.6251\n",
      "Epoch 39/100\n",
      "240/240 [==============================] - 0s 268us/step - loss: 28.1895\n",
      "Epoch 40/100\n",
      "240/240 [==============================] - 0s 327us/step - loss: 27.7880\n",
      "Epoch 41/100\n",
      "240/240 [==============================] - 0s 268us/step - loss: 27.5254\n",
      "Epoch 42/100\n",
      "240/240 [==============================] - 0s 283us/step - loss: 28.1759\n",
      "Epoch 43/100\n",
      "240/240 [==============================] - 0s 273us/step - loss: 27.4039\n",
      "Epoch 44/100\n",
      "240/240 [==============================] - 0s 277us/step - loss: 27.4521\n",
      "Epoch 45/100\n",
      "240/240 [==============================] - 0s 270us/step - loss: 27.4378\n",
      "Epoch 46/100\n",
      "240/240 [==============================] - 0s 275us/step - loss: 27.0027\n",
      "Epoch 47/100\n",
      "240/240 [==============================] - 0s 269us/step - loss: 27.1245\n",
      "Epoch 48/100\n",
      "240/240 [==============================] - 0s 267us/step - loss: 26.8946\n",
      "Epoch 49/100\n",
      "240/240 [==============================] - 0s 273us/step - loss: 27.7508\n",
      "Epoch 50/100\n",
      "240/240 [==============================] - 0s 270us/step - loss: 26.9973\n",
      "Epoch 51/100\n",
      "240/240 [==============================] - 0s 283us/step - loss: 27.1758\n",
      "Epoch 52/100\n",
      "240/240 [==============================] - 0s 273us/step - loss: 26.8481\n",
      "Epoch 53/100\n",
      "240/240 [==============================] - 0s 270us/step - loss: 26.8170\n",
      "Epoch 54/100\n",
      "240/240 [==============================] - 0s 271us/step - loss: 26.4022\n",
      "Epoch 55/100\n",
      "240/240 [==============================] - 0s 275us/step - loss: 26.8792\n",
      "Epoch 56/100\n",
      "240/240 [==============================] - 0s 276us/step - loss: 27.1304\n",
      "Epoch 57/100\n",
      "240/240 [==============================] - 0s 270us/step - loss: 26.5625\n",
      "Epoch 58/100\n",
      "240/240 [==============================] - 0s 268us/step - loss: 26.9507\n",
      "Epoch 59/100\n",
      "240/240 [==============================] - 0s 273us/step - loss: 26.9428\n",
      "Epoch 60/100\n",
      "240/240 [==============================] - 0s 275us/step - loss: 26.8089\n",
      "Epoch 61/100\n",
      "240/240 [==============================] - 0s 272us/step - loss: 26.7435\n",
      "Epoch 62/100\n",
      "240/240 [==============================] - 0s 268us/step - loss: 26.8492\n",
      "Epoch 63/100\n",
      "240/240 [==============================] - 0s 270us/step - loss: 27.2113\n",
      "Epoch 64/100\n",
      "240/240 [==============================] - 0s 276us/step - loss: 26.7112\n",
      "Epoch 65/100\n",
      "240/240 [==============================] - 0s 276us/step - loss: 26.9185\n",
      "Epoch 66/100\n",
      "240/240 [==============================] - 0s 273us/step - loss: 26.9421\n",
      "Epoch 67/100\n",
      "240/240 [==============================] - 0s 279us/step - loss: 26.5329\n",
      "Epoch 68/100\n",
      "240/240 [==============================] - 0s 273us/step - loss: 26.9216\n",
      "Epoch 69/100\n",
      "240/240 [==============================] - 0s 270us/step - loss: 26.6282\n",
      "Epoch 70/100\n",
      "240/240 [==============================] - 0s 275us/step - loss: 26.4423\n",
      "Epoch 71/100\n",
      "240/240 [==============================] - 0s 274us/step - loss: 26.2560\n",
      "Epoch 72/100\n",
      "240/240 [==============================] - 0s 278us/step - loss: 26.6640\n",
      "Epoch 73/100\n",
      "240/240 [==============================] - 0s 268us/step - loss: 26.6503\n",
      "Epoch 74/100\n",
      "240/240 [==============================] - 0s 279us/step - loss: 27.3031\n",
      "Epoch 75/100\n",
      "240/240 [==============================] - 0s 272us/step - loss: 26.4435\n",
      "Epoch 76/100\n",
      "240/240 [==============================] - 0s 278us/step - loss: 27.2321\n",
      "Epoch 77/100\n",
      "240/240 [==============================] - 0s 275us/step - loss: 26.4835\n",
      "Epoch 78/100\n",
      "240/240 [==============================] - 0s 275us/step - loss: 26.3795\n",
      "Epoch 79/100\n",
      "240/240 [==============================] - 0s 275us/step - loss: 26.2358\n",
      "Epoch 80/100\n",
      "240/240 [==============================] - 0s 292us/step - loss: 26.6937\n",
      "Epoch 81/100\n",
      "240/240 [==============================] - 0s 289us/step - loss: 26.4207\n",
      "Epoch 82/100\n",
      "240/240 [==============================] - 0s 278us/step - loss: 27.0173\n",
      "Epoch 83/100\n",
      "240/240 [==============================] - 0s 270us/step - loss: 26.4661\n",
      "Epoch 84/100\n",
      "240/240 [==============================] - 0s 272us/step - loss: 26.5153\n",
      "Epoch 85/100\n",
      "240/240 [==============================] - 0s 272us/step - loss: 27.3666\n",
      "Epoch 86/100\n",
      "240/240 [==============================] - 0s 329us/step - loss: 26.3896\n",
      "Epoch 87/100\n",
      "240/240 [==============================] - 0s 277us/step - loss: 26.4419\n",
      "Epoch 88/100\n",
      "240/240 [==============================] - 0s 274us/step - loss: 26.6816\n",
      "Epoch 89/100\n",
      "240/240 [==============================] - 0s 278us/step - loss: 26.3457\n",
      "Epoch 90/100\n",
      "240/240 [==============================] - 0s 281us/step - loss: 26.7433\n",
      "Epoch 91/100\n",
      "240/240 [==============================] - 0s 282us/step - loss: 26.4233\n",
      "Epoch 92/100\n",
      "240/240 [==============================] - 0s 284us/step - loss: 26.5405\n",
      "Epoch 93/100\n",
      "240/240 [==============================] - 0s 275us/step - loss: 26.8807\n",
      "Epoch 94/100\n",
      "240/240 [==============================] - 0s 276us/step - loss: 26.6542\n",
      "Epoch 95/100\n",
      "240/240 [==============================] - 0s 272us/step - loss: 26.6387\n",
      "Epoch 96/100\n"
     ]
    },
    {
     "name": "stdout",
     "output_type": "stream",
     "text": [
      "240/240 [==============================] - 0s 277us/step - loss: 26.6448\n",
      "Epoch 97/100\n",
      "240/240 [==============================] - 0s 275us/step - loss: 26.4022\n",
      "Epoch 98/100\n",
      "240/240 [==============================] - 0s 271us/step - loss: 26.7614\n",
      "Epoch 99/100\n",
      "240/240 [==============================] - 0s 272us/step - loss: 26.9346\n",
      "Epoch 100/100\n",
      "240/240 [==============================] - 0s 267us/step - loss: 27.1026\n"
     ]
    },
    {
     "data": {
      "text/plain": [
       "<keras.src.callbacks.History at 0x287158990>"
      ]
     },
     "execution_count": 10,
     "metadata": {},
     "output_type": "execute_result"
    }
   ],
   "source": [
    "ann.fit(X_train, y_train, batch_size = 32, epochs = 100)"
   ]
  },
  {
   "cell_type": "markdown",
   "metadata": {
    "colab_type": "text",
    "id": "0H0zKKNEBLD5"
   },
   "source": [
    "### Predicting the results of the Test set"
   ]
  },
  {
   "cell_type": "code",
   "execution_count": 11,
   "metadata": {
    "colab": {
     "base_uri": "https://localhost:8080/",
     "height": 134
    },
    "colab_type": "code",
    "id": "IA0yApEmBG1X",
    "outputId": "cb981e1f-9204-4a2a-fece-9d66a6919189"
   },
   "outputs": [
    {
     "name": "stdout",
     "output_type": "stream",
     "text": [
      "60/60 [==============================] - 0s 281us/step\n",
      "[[432.38 431.23]\n",
      " [463.5  460.01]\n",
      " [467.02 461.14]\n",
      " ...\n",
      " [474.28 473.26]\n",
      " [440.86 438.  ]\n",
      " [460.17 463.28]]\n"
     ]
    }
   ],
   "source": [
    "y_pred = ann.predict(X_test)\n",
    "np.set_printoptions(precision=2)\n",
    "print(np.concatenate((y_pred.reshape(len(y_pred),1), y_test.reshape(len(y_test),1)),1))"
   ]
  }
 ],
 "metadata": {
  "colab": {
   "collapsed_sections": [],
   "name": "Artificial Neural Network",
   "provenance": [],
   "toc_visible": true
  },
  "kernelspec": {
   "display_name": "Python 3 (ipykernel)",
   "language": "python",
   "name": "python3"
  },
  "language_info": {
   "codemirror_mode": {
    "name": "ipython",
    "version": 3
   },
   "file_extension": ".py",
   "mimetype": "text/x-python",
   "name": "python",
   "nbconvert_exporter": "python",
   "pygments_lexer": "ipython3",
   "version": "3.11.3"
  }
 },
 "nbformat": 4,
 "nbformat_minor": 1
}
